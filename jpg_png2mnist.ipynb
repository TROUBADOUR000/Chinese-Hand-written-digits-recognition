{
 "cells": [
  {
   "cell_type": "markdown",
   "source": [
    "**手写图片转为灰度图得到数据集**\n",
    "读取拍照上传的图片，保存在0-9共10个文件夹，文件夹名对应label，将rgb图转为灰度图，之后得到784个像素数据\n",
    "读取拍照上传的图片，保存在0-9共10个文件夹，文件夹名对应label，将rgb图转为灰度图，之后得到784个像素数据"
   ],
   "metadata": {
    "collapsed": false
   },
   "id": "3ace91d5b706b2f7"
  },
  {
   "cell_type": "code",
   "execution_count": 3,
   "outputs": [
    {
     "name": "stderr",
     "output_type": "stream",
     "text": [
      "0: 100%|██████████| 74/74 [00:00<00:00, 1574.12it/s]\n",
      "1: 100%|██████████| 58/58 [00:00<00:00, 2521.22it/s]\n",
      "2: 100%|██████████| 52/52 [00:00<00:00, 2535.47it/s]\n",
      "3: 100%|██████████| 46/46 [00:00<00:00, 2420.59it/s]\n",
      "4: 100%|██████████| 46/46 [00:00<00:00, 2189.96it/s]\n",
      "5: 100%|██████████| 51/51 [00:00<00:00, 2317.72it/s]\n",
      "6: 100%|██████████| 52/52 [00:00<00:00, 2309.88it/s]\n",
      "7: 100%|██████████| 74/74 [00:00<00:00, 1999.55it/s]\n",
      "8: 100%|██████████| 47/47 [00:00<00:00, 2237.60it/s]\n",
      "9: 100%|██████████| 48/48 [00:00<00:00, 1919.41it/s]\n"
     ]
    },
    {
     "name": "stdout",
     "output_type": "stream",
     "text": [
      "548\n",
      "548\n",
      "finished\n"
     ]
    }
   ],
   "source": [
    "import os\n",
    "from PIL import Image\n",
    "import pandas as pd\n",
    "from tqdm import tqdm\n",
    "\n",
    "\n",
    "name = './data/training-images'\n",
    "\n",
    "data_image = []\n",
    "data_label = []\n",
    "\n",
    "for dirname in os.listdir(name):\n",
    "\tpath = os.path.join(name, dirname)\n",
    "\tFileList = []\n",
    "\tfor filename in os.listdir(path):\n",
    "\t\tif filename.endswith(\".png\"):\n",
    "\t\t    FileList.append(os.path.join(name, dirname, filename))\n",
    "\tfor filename in tqdm(FileList, desc=dirname):\n",
    "\t\timg = Image.open(filename).convert('L')  # Convert to grayscale\n",
    "\t\timg = img.resize((28, 28))  # Resize to 28x28 pixels\n",
    "        \n",
    "        # Flatten the image into a 1D array\n",
    "\t\tpixel_values = list(img.getdata())\n",
    "\t\tpixel_values = [255 - x for x in pixel_values]\n",
    "\t\tdata_image.append(pixel_values)\n",
    "        \n",
    "\t\tlabel = dirname\n",
    "\t\tdata_label.append(label)\n",
    "        \n",
    "\n",
    "print(len(data_label))\n",
    "print(len(data_image))\n",
    "\n",
    "df = pd.DataFrame(data_image)\n",
    "df['label'] = data_label\n",
    "\n",
    "df.to_csv('./data/mnist_data.csv', index=False, header=False)\n",
    "\n",
    "\n",
    "print('finished')"
   ],
   "metadata": {
    "collapsed": false,
    "ExecuteTime": {
     "end_time": "2023-11-11T13:29:43.076854500Z",
     "start_time": "2023-11-11T13:29:42.616348Z"
    }
   },
   "id": "ec486cb9de7c0cea"
  },
  {
   "cell_type": "code",
   "execution_count": 17,
   "outputs": [
    {
     "name": "stdout",
     "output_type": "stream",
     "text": [
      "113.png\n",
      "135.png\n",
      "19.png\n",
      "['./easy_mistake\\\\113.png', './easy_mistake\\\\135.png', './easy_mistake\\\\19.png']\n",
      "finished\n"
     ]
    },
    {
     "data": {
      "text/plain": "<Figure size 800x800 with 3 Axes>",
      "image/png": "[encoded data removed]"
     },
     "metadata": {},
     "output_type": "display_data"
    }
   ],
   "source": [
    "import os\n",
    "from PIL import Image\n",
    "import matplotlib.pyplot as plt\n",
    "import numpy as np\n",
    "\n",
    "fig = plt.figure(figsize=(8,8))\n",
    "cols, rows = 4,1\n",
    "\n",
    "p = [4, 5, 7]\n",
    "i = 0\n",
    "\n",
    "FileList = []\n",
    "\n",
    "path = './easy_mistake'\n",
    "for filename in os.listdir(path):\n",
    "\tprint(filename)\n",
    "\tif filename.endswith(\".png\"):\n",
    "\t\tFileList.append(os.path.join(name, filename))\n",
    "print(FileList)\n",
    "for filename in FileList:\n",
    "\timg = Image.open(filename).convert('L')  # Convert to grayscale\n",
    "\timg = img.resize((28, 28))  # Resize to 28x28 pixels\n",
    "\tpixel_values = list(img.getdata())\n",
    "\tpixel_values = [255 - x for x in pixel_values]\n",
    "\ti += 1\n",
    "\tfig.add_subplot(rows,cols,i)\n",
    "\tplt.title(p[i - 1])\n",
    "\tplt.axis('off')\n",
    "\tinverted_img = np.array(Image.new('L', img.size, color=255)) - np.array(img)\n",
    "\tinverted_img = Image.fromarray(np.uint8(inverted_img))\n",
    "\tplt.imshow(inverted_img, cmap='gray')\n",
    "        \n",
    "print('finished')"
   ],
   "metadata": {
    "collapsed": false,
    "ExecuteTime": {
     "end_time": "2023-11-12T02:53:30.496063100Z",
     "start_time": "2023-11-12T02:53:30.113055200Z"
    }
   },
   "id": "33f417f0f9ac04b7"
  }
 ],
 "metadata": {
  "kernelspec": {
   "display_name": "Python 3",
   "language": "python",
   "name": "python3"
  },
  "language_info": {
   "codemirror_mode": {
    "name": "ipython",
    "version": 2
   },
   "file_extension": ".py",
   "mimetype": "text/x-python",
   "name": "python",
   "nbconvert_exporter": "python",
   "pygments_lexer": "ipython2",
   "version": "2.7.6"
  }
 },
 "nbformat": 4,
 "nbformat_minor": 5
}
